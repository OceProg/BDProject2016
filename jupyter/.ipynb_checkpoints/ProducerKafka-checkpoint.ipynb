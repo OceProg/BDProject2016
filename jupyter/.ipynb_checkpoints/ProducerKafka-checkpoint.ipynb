{
 "cells": [
  {
   "cell_type": "markdown",
   "metadata": {
    "collapsed": false
   },
   "source": [
    "from bokeh.io import output_notebook, show\n",
    "output_notebook()\n",
    "#from urllib.request import urlopen\n",
    "import json"
   ]
  },
  {
   "cell_type": "markdown",
   "metadata": {
    "collapsed": false
   },
   "source": [
    "import pandas as pd\n",
    "\n",
    "file=\"~/Documents/projet/data/train.csv\"\n",
    "data = pd.read_csv(file,sep=\",\")[:10]\n",
    "listxy = pd.DataFrame({'X':data.X, 'Y':data.Y})\n",
    "listUnique = listxy.drop_duplicates()"
   ]
  },
  {
   "cell_type": "markdown",
   "metadata": {
    "collapsed": false
   },
   "source": [
    "from kafka import KafkaProducer\n",
    "producer = KafkaProducer(bootstrap_servers='localhost:9092')\n",
    "for x,y in zip(data.X,data.Y):\n",
    "    producer.send('clickstream', bytes(str(x)))"
   ]
  },
  {
   "cell_type": "markdown",
   "metadata": {
    "collapsed": false
   },
   "source": [
    "data.values[9]"
   ]
  },
  {
   "cell_type": "code",
   "execution_count": 6,
   "metadata": {
    "collapsed": true
   },
   "outputs": [],
   "source": [
    "import pandas as pd\n",
    "file=\"~/Documents/projet/data/sfpd_total_10.csv\""
   ]
  },
  {
   "cell_type": "code",
   "execution_count": 9,
   "metadata": {
    "collapsed": false
   },
   "outputs": [
    {
     "name": "stdout",
     "output_type": "stream",
     "text": [
      "   ﻿IncidntNum        Category                      Descript DayOfWeek  \\\n",
      "0    100475254         ASSAULT                       BATTERY    Friday   \n",
      "1    100475254        WARRANTS                WARRANT ARREST    Friday   \n",
      "2    100475254    NON-CRIMINAL  AIDED CASE, MENTAL DISTURBED    Friday   \n",
      "3    110914565        WARRANTS                WARRANT ARREST    Friday   \n",
      "4     11351210  MISSING PERSON                  FOUND PERSON   Tuesday   \n",
      "5    120789988  MISSING PERSON                  FOUND PERSON    Monday   \n",
      "6    140608681         ROBBERY         ROBBERY, BODILY FORCE  Thursday   \n",
      "7    140608681  OTHER OFFENSES   VIOLATION OF MUNICIPAL CODE  Thursday   \n",
      "8    140608681        WARRANTS                WARRANT ARREST  Thursday   \n",
      "9    150097137    NON-CRIMINAL                  CASE CLOSURE    Sunday   \n",
      "\n",
      "         Date   Time PdDistrict             Resolution  \\\n",
      "0  08/26/2016  08:00   NORTHERN         ARREST, BOOKED   \n",
      "1  08/26/2016  08:00   NORTHERN         ARREST, BOOKED   \n",
      "2  08/26/2016  08:00   NORTHERN         ARREST, BOOKED   \n",
      "3  05/29/2015  16:42   SOUTHERN         ARREST, BOOKED   \n",
      "4  06/14/2016  08:55    BAYVIEW                   NONE   \n",
      "5  05/16/2016  00:41  INGLESIDE                   NONE   \n",
      "6  06/16/2016  21:00   SOUTHERN         ARREST, BOOKED   \n",
      "7  06/16/2016  21:00   SOUTHERN         ARREST, BOOKED   \n",
      "8  06/16/2016  21:00   SOUTHERN         ARREST, BOOKED   \n",
      "9  02/01/2015  09:00   SOUTHERN  EXCEPTIONAL CLEARANCE   \n",
      "\n",
      "                       Address           X             ...               \\\n",
      "0          UNION ST / GOUGH ST -122.427271             ...                \n",
      "1          UNION ST / GOUGH ST -122.427271             ...                \n",
      "2          UNION ST / GOUGH ST -122.427271             ...                \n",
      "3           BRYANT ST / 8TH ST -122.406971             ...                \n",
      "4         1200 Block of 3RD ST -122.389518             ...                \n",
      "5   WOOLSEY ST / UNIVERSITY ST -122.412470             ...                \n",
      "6  0 Block of UNITEDNATIONS PZ -122.414318             ...                \n",
      "7  0 Block of UNITEDNATIONS PZ -122.414318             ...                \n",
      "8  0 Block of UNITEDNATIONS PZ -122.414318             ...                \n",
      "9       800 Block of BRYANT ST -122.403405             ...                \n",
      "\n",
      "   Population density (people per square mile) Renter-occupied apartments  \\\n",
      "0                                      24005.0                     9928.0   \n",
      "1                                      24005.0                     9928.0   \n",
      "2                                      24005.0                     9928.0   \n",
      "3                                      17630.0                     9496.0   \n",
      "4                                          NaN                        NaN   \n",
      "5                                      16175.0                     4511.0   \n",
      "6                                      38579.0                    14161.0   \n",
      "7                                      38579.0                    14161.0   \n",
      "8                                      38579.0                    14161.0   \n",
      "9                                      17630.0                     9496.0   \n",
      "\n",
      "   Residents with income below 50% of the poverty level in 2013  Salary/wage  \\\n",
      "0                                                2.5                175447.0   \n",
      "1                                                2.5                175447.0   \n",
      "2                                                2.5                175447.0   \n",
      "3                                               16.0                 88432.0   \n",
      "4                                                NaN                     NaN   \n",
      "5                                                6.6                 42648.0   \n",
      "6                                               17.2                 56042.0   \n",
      "7                                               17.2                 56042.0   \n",
      "8                                               17.2                 56042.0   \n",
      "9                                               16.0                 88432.0   \n",
      "\n",
      "   Some other race population  Two or more races population  Water area  \\\n",
      "0                        79.0                         586.0         0.1   \n",
      "1                        79.0                         586.0         0.1   \n",
      "2                        79.0                         586.0         0.1   \n",
      "3                        93.0                         875.0         0.0   \n",
      "4                         NaN                           NaN         NaN   \n",
      "5                        77.0                         926.0         0.0   \n",
      "6                       116.0                        1059.0         0.0   \n",
      "7                       116.0                        1059.0         0.0   \n",
      "8                       116.0                        1059.0         0.0   \n",
      "9                        93.0                         875.0         0.0   \n",
      "\n",
      "   White population  Zip code population in 2000  Zip code population in 2010  \n",
      "0           18552.0                      22903.0                      23088.0  \n",
      "1           18552.0                      22903.0                      23088.0  \n",
      "2           18552.0                      22903.0                      23088.0  \n",
      "3           10241.0                      23016.0                      27170.0  \n",
      "4               NaN                          NaN                          NaN  \n",
      "5            3778.0                      40134.0                      40798.0  \n",
      "6           11806.0                      28991.0                      31176.0  \n",
      "7           11806.0                      28991.0                      31176.0  \n",
      "8           11806.0                      28991.0                      31176.0  \n",
      "9           10241.0                      23016.0                      27170.0  \n",
      "\n",
      "[10 rows x 39 columns]\n"
     ]
    },
    {
     "ename": "AttributeError",
     "evalue": "'DataFrame' object has no attribute 'IncidntNum'",
     "output_type": "error",
     "traceback": [
      "\u001b[1;31m---------------------------------------------------------------------------\u001b[0m",
      "\u001b[1;31mAttributeError\u001b[0m                            Traceback (most recent call last)",
      "\u001b[1;32m<ipython-input-9-f82312393a52>\u001b[0m in \u001b[0;36m<module>\u001b[1;34m()\u001b[0m\n\u001b[0;32m      1\u001b[0m \u001b[0mdata\u001b[0m \u001b[1;33m=\u001b[0m \u001b[0mpd\u001b[0m\u001b[1;33m.\u001b[0m\u001b[0mread_csv\u001b[0m\u001b[1;33m(\u001b[0m\u001b[0mfile\u001b[0m\u001b[1;33m,\u001b[0m\u001b[0msep\u001b[0m\u001b[1;33m=\u001b[0m\u001b[1;34m\",\"\u001b[0m\u001b[1;33m)\u001b[0m\u001b[1;33m[\u001b[0m\u001b[1;33m:\u001b[0m\u001b[1;36m10\u001b[0m\u001b[1;33m]\u001b[0m\u001b[1;33m\u001b[0m\u001b[0m\n\u001b[0;32m      2\u001b[0m \u001b[1;32mprint\u001b[0m \u001b[0mdata\u001b[0m\u001b[1;33m\u001b[0m\u001b[0m\n\u001b[1;32m----> 3\u001b[1;33m \u001b[0mxcol\u001b[0m \u001b[1;33m=\u001b[0m \u001b[0mpd\u001b[0m\u001b[1;33m.\u001b[0m\u001b[0mDataFrame\u001b[0m\u001b[1;33m(\u001b[0m\u001b[1;33m{\u001b[0m\u001b[1;34m'IncidntNum'\u001b[0m\u001b[1;33m:\u001b[0m\u001b[0mdata\u001b[0m\u001b[1;33m.\u001b[0m\u001b[0mIncidntNum\u001b[0m\u001b[1;33m,\u001b[0m \u001b[1;34m'Category'\u001b[0m\u001b[1;33m:\u001b[0m\u001b[0mdata\u001b[0m\u001b[1;33m.\u001b[0m\u001b[0mCategory\u001b[0m\u001b[1;33m}\u001b[0m\u001b[1;33m)\u001b[0m\u001b[1;33m\u001b[0m\u001b[0m\n\u001b[0m",
      "\u001b[1;32m/home/user14/anaconda2/lib/python2.7/site-packages/pandas/core/generic.pyc\u001b[0m in \u001b[0;36m__getattr__\u001b[1;34m(self, name)\u001b[0m\n\u001b[0;32m   2670\u001b[0m             \u001b[1;32mif\u001b[0m \u001b[0mname\u001b[0m \u001b[1;32min\u001b[0m \u001b[0mself\u001b[0m\u001b[1;33m.\u001b[0m\u001b[0m_info_axis\u001b[0m\u001b[1;33m:\u001b[0m\u001b[1;33m\u001b[0m\u001b[0m\n\u001b[0;32m   2671\u001b[0m                 \u001b[1;32mreturn\u001b[0m \u001b[0mself\u001b[0m\u001b[1;33m[\u001b[0m\u001b[0mname\u001b[0m\u001b[1;33m]\u001b[0m\u001b[1;33m\u001b[0m\u001b[0m\n\u001b[1;32m-> 2672\u001b[1;33m             \u001b[1;32mreturn\u001b[0m \u001b[0mobject\u001b[0m\u001b[1;33m.\u001b[0m\u001b[0m__getattribute__\u001b[0m\u001b[1;33m(\u001b[0m\u001b[0mself\u001b[0m\u001b[1;33m,\u001b[0m \u001b[0mname\u001b[0m\u001b[1;33m)\u001b[0m\u001b[1;33m\u001b[0m\u001b[0m\n\u001b[0m\u001b[0;32m   2673\u001b[0m \u001b[1;33m\u001b[0m\u001b[0m\n\u001b[0;32m   2674\u001b[0m     \u001b[1;32mdef\u001b[0m \u001b[0m__setattr__\u001b[0m\u001b[1;33m(\u001b[0m\u001b[0mself\u001b[0m\u001b[1;33m,\u001b[0m \u001b[0mname\u001b[0m\u001b[1;33m,\u001b[0m \u001b[0mvalue\u001b[0m\u001b[1;33m)\u001b[0m\u001b[1;33m:\u001b[0m\u001b[1;33m\u001b[0m\u001b[0m\n",
      "\u001b[1;31mAttributeError\u001b[0m: 'DataFrame' object has no attribute 'IncidntNum'"
     ]
    }
   ],
   "source": [
    "data = pd.read_csv(file,sep=\",\")[:10]\n",
    "print data.head\n",
    "xcol = pd.DataFrame({'IncidntNum':data.IncidntNum, 'Category':data.Category})"
   ]
  },
  {
   "cell_type": "code",
   "execution_count": null,
   "metadata": {
    "collapsed": true
   },
   "outputs": [],
   "source": [
    "from kafka import KafkaProducer\n",
    "producer = KafkaProducer(bootstrap_servers='localhost:9092')\n",
    "for row in data.values:\n",
    "    producer.send('clickstream', bytes(str(row)))"
   ]
  },
  {
   "cell_type": "code",
   "execution_count": null,
   "metadata": {
    "collapsed": true
   },
   "outputs": [],
   "source": []
  }
 ],
 "metadata": {
  "anaconda-cloud": {},
  "kernelspec": {
   "display_name": "Python [Root]",
   "language": "python",
   "name": "Python [Root]"
  },
  "language_info": {
   "codemirror_mode": {
    "name": "ipython",
    "version": 2
   },
   "file_extension": ".py",
   "mimetype": "text/x-python",
   "name": "python",
   "nbconvert_exporter": "python",
   "pygments_lexer": "ipython2",
   "version": "2.7.12"
  }
 },
 "nbformat": 4,
 "nbformat_minor": 0
}
